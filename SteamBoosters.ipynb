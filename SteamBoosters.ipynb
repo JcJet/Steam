{
  "nbformat": 4,
  "nbformat_minor": 0,
  "metadata": {
    "colab": {
      "provenance": []
    },
    "kernelspec": {
      "name": "python3",
      "display_name": "Python 3"
    },
    "language_info": {
      "name": "python"
    }
  },
  "cells": [
    {
      "cell_type": "code",
      "execution_count": null,
      "metadata": {
        "id": "pzFHnrXShcBf"
      },
      "outputs": [],
      "source": [
        "import random\n",
        "\n",
        "cards_in_booster = 3\n",
        "booster_price = 545\n",
        "cards_in_set = 11\n",
        "\n"
      ]
    },
    {
      "cell_type": "code",
      "source": [
        "def set_completed(lst):\n",
        "  res = True\n",
        "  for item in lst:\n",
        "    if item == 0:\n",
        "      res = False\n",
        "      break\n",
        "  return res\n",
        "\n",
        "def get_card():\n",
        "  res = False\n",
        "  if random.randint(0,100) < 1:\n",
        "    res = True\n",
        "  return res\n",
        "\n",
        "def get_foil(set_size):\n",
        "  return random.randint(0,set_size-1)\n",
        "\n",
        "def unpack_booster(cards_count):\n",
        "  res = []\n",
        "  for i in range (cards_count):\n",
        "    res.append(get_card())\n",
        "  return res"
      ],
      "metadata": {
        "id": "484BureHo-8d"
      },
      "execution_count": null,
      "outputs": []
    },
    {
      "cell_type": "code",
      "source": [
        "def simulate():\n",
        "  total_boosters = 0\n",
        "  common_cards_dropped = 0\n",
        "  foil_duplicates = 0\n",
        "  foil_inventory = [0 for i in range(cards_in_set)]\n",
        "\n",
        "  while not (set_completed(foil_inventory)):\n",
        "    pack = unpack_booster(cards_in_booster)\n",
        "    total_boosters += 1\n",
        "    for card in pack:\n",
        "      if card == False:\n",
        "        common_cards_dropped += 1\n",
        "      else:\n",
        "        foil = get_foil(cards_in_set)\n",
        "        foil_inventory[foil] += 1\n",
        "  for inv in foil_inventory:\n",
        "    foil_duplicates += inv-1\n",
        "  return (total_boosters, common_cards_dropped, foil_duplicates)"
      ],
      "metadata": {
        "id": "9NHXd2SWuIO2"
      },
      "execution_count": null,
      "outputs": []
    },
    {
      "cell_type": "code",
      "source": [
        "sim_count = 10\n",
        "total_boosters_max = 0\n",
        "total_boosters_min = float('inf')\n",
        "total_boosters_avg = 0\n",
        "for i in range (sim_count):\n",
        "  (total_boosters, common_cards_dropped, foil_duplicates) = simulate()\n",
        "  if total_boosters > total_boosters_max:\n",
        "    total_boosters_max = total_boosters\n",
        "  if total_boosters < total_boosters_min:\n",
        "    total_boosters_min = total_boosters\n",
        "  total_boosters_avg += total_boosters\n",
        "total_boosters_avg /= sim_count\n",
        "\n",
        "(total_boosters, common_cards_dropped, foil_duplicates) = simulate()\n",
        "print(\"Total boosters: \" + str(total_boosters))\n",
        "print(\"Gems spent: \" + str(total_boosters * booster_price))\n",
        "print(\"Common cards dropped: \" + str(common_cards_dropped))\n",
        "print(\"Foil duplicates: \" + str(foil_duplicates))\n",
        "print(\"Total boosters range: \" + str(total_boosters_min) + \"-(\" + str(int(total_boosters_avg)) + \")-\" + str(total_boosters_max))"
      ],
      "metadata": {
        "colab": {
          "base_uri": "https://localhost:8080/"
        },
        "id": "bkfUeNA5irlB",
        "outputId": "bfdcc9ef-951d-473b-f832-b7dbfd02e11a"
      },
      "execution_count": null,
      "outputs": [
        {
          "output_type": "stream",
          "name": "stdout",
          "text": [
            "Total boosters: 1196\n",
            "Gems spent: 651820\n",
            "Common cards dropped: 3562\n",
            "Foil duplicates: 15\n",
            "Total boosters range: 747-(1219)-2318\n"
          ]
        }
      ]
    }
  ]
}